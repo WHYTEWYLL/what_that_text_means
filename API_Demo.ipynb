{
 "cells": [
  {
   "cell_type": "markdown",
   "metadata": {},
   "source": [
    "## Introduce texto\n",
    "\n",
    "Introduce el texto que quieras, en formato {</username/>:[frases]}"
   ]
  },
  {
   "cell_type": "code",
   "execution_count": 172,
   "metadata": {},
   "outputs": [],
   "source": [
    "textas={\"Weird Al Yankovic\": [\n",
    "    \"Alanis Morissette and I actually used to date. I especially liked it when we went to the movies.\",\n",
    "    \"That's something the kids should know about. Reading is a gateway to witchcraft and lesbianism.\",\n",
    "    \"I wrote 'Eat It' because I wanted to buy a house. It worked.\",\n",
    "    \"Right now I'm listening to a lot of Top 40 music, because THAT'S MY JOB.\",\n",
    "    \"If money can't buy happiness, I guess I'll have to rent it.\",\n",
    "    \"My brothers and sisters all hated me 'cause I was an only child.\",\n",
    "    \"Shoppin' online for deals on some writable media I edit Wikipedia\",\n",
    "    \"I'm nerdy in the extreme Whiter than sour cream\",\n",
    "    \"Never had a date That you couldn't inflate\"\n",
    "],\n",
    "\"AK-47\": [\n",
    "    \"That weapon is going to keep you alive.\",\n",
    "    \"Is there a design this good that doesn't kill people?\",\n",
    "    \"AK-47 is the tool. Don't make me act the motherfucking fool.\",\n",
    "    \"The AK-47 went head-to-head with the M-16, and emerged on the winning side.\"],\n",
    "\"Adolf Hitler\": [\n",
    "    \"The common good before the individual good. (Gemeinnutz geht vor Eigennutz)\",\n",
    "    \"There are no such things as classes: they cannot be. Class means caste and caste means race.\",\n",
    "    \"Politics is history in the making.\",\n",
    "    \"I only acknowledge one nobility—that of labour.\",\n",
    "    \"We want this people to be hard, not soft, and you must steel yourselves for it in your youth!\",\n",
    "    \"Our party remains as firm as this rock and will not be divided by any force in Germany.\",\n",
    "    \"It is not the State that orders us; but it is we who order the State!\",\n",
    "    \"The war is lost!\",\n",
    "    \"The god of war has gone over to the other side.\",\n",
    "    \"Everyone was at one time a Social Democrat.\"]}\n"
   ]
  },
  {
   "cell_type": "markdown",
   "metadata": {},
   "source": [
    "## CREAR USUARIOS\n"
   ]
  },
  {
   "cell_type": "code",
   "execution_count": 180,
   "metadata": {},
   "outputs": [],
   "source": [
    "list(textas.keys())\n",
    "import requests"
   ]
  },
  {
   "cell_type": "code",
   "execution_count": 181,
   "metadata": {},
   "outputs": [],
   "source": [
    "identificadores=[]\n",
    "for username in list(textas.keys()):\n",
    "    identificadores.append((username,requests.get(f\"http://0.0.0.0:8000/user/create/{username}\").text))\n"
   ]
  },
  {
   "cell_type": "code",
   "execution_count": 182,
   "metadata": {},
   "outputs": [
    {
     "data": {
      "text/plain": [
       "[('Weird Al Yankovic', '5f0c55e04a250964b1d9d3dd'),\n",
       " ('AK-47', '5f0c55e04a250964b1d9d3de'),\n",
       " ('Adolf Hitler', '5f0c55e04a250964b1d9d3df')]"
      ]
     },
     "execution_count": 182,
     "metadata": {},
     "output_type": "execute_result"
    }
   ],
   "source": [
    "identificadores"
   ]
  },
  {
   "cell_type": "code",
   "execution_count": 183,
   "metadata": {},
   "outputs": [
    {
     "data": {
      "text/plain": [
       "['5f0c55e04a250964b1d9d3dd',\n",
       " '5f0c55e04a250964b1d9d3de',\n",
       " '5f0c55e04a250964b1d9d3df']"
      ]
     },
     "execution_count": 183,
     "metadata": {},
     "output_type": "execute_result"
    }
   ],
   "source": [
    "misparticipantes=[ candidatos[1] for candidatos in identificadores]\n",
    "misparticipantes"
   ]
  },
  {
   "cell_type": "code",
   "execution_count": 184,
   "metadata": {},
   "outputs": [
    {
     "data": {
      "text/plain": [
       "{'Participants': ['5f0c55e04a250964b1d9d3dd',\n",
       "  '5f0c55e04a250964b1d9d3de',\n",
       "  '5f0c55e04a250964b1d9d3df']}"
      ]
     },
     "execution_count": 184,
     "metadata": {},
     "output_type": "execute_result"
    }
   ],
   "source": [
    "Participants={\"Participants\":misparticipantes}\n",
    "\n",
    "#Nombre de la conv\n",
    "groupname=\"Rematar 20202aa\"\n",
    "Participants"
   ]
  },
  {
   "cell_type": "code",
   "execution_count": 190,
   "metadata": {},
   "outputs": [
    {
     "data": {
      "text/plain": [
       "'5f0c56104a250964b1d9d3e2'"
      ]
     },
     "execution_count": 190,
     "metadata": {},
     "output_type": "execute_result"
    }
   ],
   "source": [
    "requests.get(f\"http://0.0.0.0:8000/chat/create?groupname={groupname}\",params=Participants).text\n"
   ]
  },
  {
   "cell_type": "code",
   "execution_count": 191,
   "metadata": {},
   "outputs": [],
   "source": [
    "conver_id='5f0c56104a250964b1d9d3e2'"
   ]
  },
  {
   "cell_type": "markdown",
   "metadata": {},
   "source": [
    "Create new user and adding him to the conve:"
   ]
  },
  {
   "cell_type": "code",
   "execution_count": 194,
   "metadata": {},
   "outputs": [
    {
     "data": {
      "text/plain": [
       "'5f0c56274a250964b1d9d3e4'"
      ]
     },
     "execution_count": 194,
     "metadata": {},
     "output_type": "execute_result"
    }
   ],
   "source": [
    "Newguy=\"Papaas\"\n",
    "requests.get(f\"http://0.0.0.0:8000/user/create/{Newguy}\").text"
   ]
  },
  {
   "cell_type": "code",
   "execution_count": 196,
   "metadata": {},
   "outputs": [
    {
     "data": {
      "text/plain": [
       "\"['5f0c55e04a250964b1d9d3dd', '5f0c55e04a250964b1d9d3de', '5f0c55e04a250964b1d9d3df', '5f0c56274a250964b1d9d3e4', '5f0c56274a250964b1d9d3e4']\""
      ]
     },
     "execution_count": 196,
     "metadata": {},
     "output_type": "execute_result"
    }
   ],
   "source": [
    "add_user_id={\"add_user_id\":[\"5f0c56274a250964b1d9d3e4\"]}\n",
    "\n",
    "\n",
    "requests.get(f\"http://0.0.0.0:8000/chat/{conver_id}/adduser\",params=add_user_id).text\n",
    "\n"
   ]
  },
  {
   "cell_type": "code",
   "execution_count": 197,
   "metadata": {},
   "outputs": [],
   "source": [
    "import random"
   ]
  },
  {
   "cell_type": "code",
   "execution_count": 332,
   "metadata": {},
   "outputs": [],
   "source": [
    "for x in range(5):\n",
    "    usuario=random.choices(identificadores)\n",
    "    user_id=usuario[0][1]\n",
    "    text={\"text\":random.choices(textas[usuario[0][0]])[0]}\n",
    "    requests.post(f\"http://0.0.0.0:8000/chat/{conver_id}/addmessage/{user_id}\",params=text).text"
   ]
  },
  {
   "cell_type": "code",
   "execution_count": 333,
   "metadata": {},
   "outputs": [
    {
     "data": {
      "text/plain": [
       "'Mensaje enviado'"
      ]
     },
     "execution_count": 333,
     "metadata": {},
     "output_type": "execute_result"
    }
   ],
   "source": [
    "requests.post(f\"http://0.0.0.0:8000/chat/{conver_id}/addmessage/{user_id}\",params=text).text"
   ]
  },
  {
   "cell_type": "code",
   "execution_count": null,
   "metadata": {},
   "outputs": [],
   "source": []
  },
  {
   "cell_type": "code",
   "execution_count": 270,
   "metadata": {},
   "outputs": [],
   "source": [
    "conversation_id=\"5f0c56104a250964b1d9d3e2\""
   ]
  },
  {
   "cell_type": "code",
   "execution_count": 271,
   "metadata": {},
   "outputs": [
    {
     "data": {
      "text/plain": [
       "[{'_id': {'$oid': '5f0c56414a250964b1d9d3e5'},\n",
       "  'Message': \"Never had a date That you couldn't inflate\",\n",
       "  'by': '5f0c55e04a250964b1d9d3dd',\n",
       "  'Group': '5f0c56104a250964b1d9d3e2'},\n",
       " {'_id': {'$oid': '5f0c56414a250964b1d9d3e6'},\n",
       "  'Message': \"If money can't buy happiness, I guess I'll have to rent it.\",\n",
       "  'by': '5f0c55e04a250964b1d9d3dd',\n",
       "  'Group': '5f0c56104a250964b1d9d3e2'},\n",
       " {'_id': {'$oid': '5f0c56414a250964b1d9d3e7'},\n",
       "  'Message': \"I'm nerdy in the extreme Whiter than sour cream\",\n",
       "  'by': '5f0c55e04a250964b1d9d3dd',\n",
       "  'Group': '5f0c56104a250964b1d9d3e2'},\n",
       " {'_id': {'$oid': '5f0c56414a250964b1d9d3e8'},\n",
       "  'Message': \"If money can't buy happiness, I guess I'll have to rent it.\",\n",
       "  'by': '5f0c55e04a250964b1d9d3dd',\n",
       "  'Group': '5f0c56104a250964b1d9d3e2'},\n",
       " {'_id': {'$oid': '5f0c56414a250964b1d9d3e9'},\n",
       "  'Message': \"I wrote 'Eat It' because I wanted to buy a house. It worked.\",\n",
       "  'by': '5f0c55e04a250964b1d9d3dd',\n",
       "  'Group': '5f0c56104a250964b1d9d3e2'},\n",
       " {'_id': {'$oid': '5f0c56424a250964b1d9d3ea'},\n",
       "  'Message': \"I wrote 'Eat It' because I wanted to buy a house. It worked.\",\n",
       "  'by': '5f0c55e04a250964b1d9d3dd',\n",
       "  'Group': '5f0c56104a250964b1d9d3e2'}]"
      ]
     },
     "execution_count": 271,
     "metadata": {},
     "output_type": "execute_result"
    }
   ],
   "source": [
    "requests.get(f\"http://0.0.0.0:8000/chat/{conversation_id}/list\").json()"
   ]
  },
  {
   "cell_type": "code",
   "execution_count": null,
   "metadata": {},
   "outputs": [],
   "source": []
  },
  {
   "cell_type": "code",
   "execution_count": null,
   "metadata": {},
   "outputs": [],
   "source": []
  },
  {
   "cell_type": "code",
   "execution_count": null,
   "metadata": {},
   "outputs": [],
   "source": []
  },
  {
   "cell_type": "markdown",
   "metadata": {},
   "source": [
    "## Feelings in Chat"
   ]
  },
  {
   "cell_type": "code",
   "execution_count": 310,
   "metadata": {},
   "outputs": [],
   "source": [
    "conversation_id=\"5f0c56104a250964b1d9d3e2\""
   ]
  },
  {
   "cell_type": "code",
   "execution_count": 311,
   "metadata": {},
   "outputs": [
    {
     "data": {
      "text/plain": [
       "{'neg': 0.097, 'neu': 0.903, 'pos': 0.0, 'compound': -0.1569}"
      ]
     },
     "execution_count": 311,
     "metadata": {},
     "output_type": "execute_result"
    }
   ],
   "source": [
    "requests.get(f\"http://0.0.0.0:8000/chat/{conversation_id}/sentiment\").json()"
   ]
  },
  {
   "cell_type": "markdown",
   "metadata": {},
   "source": [
    "## System recommendation"
   ]
  },
  {
   "cell_type": "markdown",
   "metadata": {},
   "source": [
    "Cubri error si meto uno , que cumple condiciones PERO NO EXISTE. EL ERROR NO ES 200 "
   ]
  },
  {
   "cell_type": "code",
   "execution_count": 343,
   "metadata": {},
   "outputs": [],
   "source": [
    "user_id=\"5f0c55e04a250964b1d9d3dd\""
   ]
  },
  {
   "cell_type": "code",
   "execution_count": 346,
   "metadata": {},
   "outputs": [
    {
     "data": {
      "text/plain": [
       "{'5f0c55e04a250964b1d9d3df': 0.9432219782595822,\n",
       " '5f0c55e04a250964b1d9d3de': nan}"
      ]
     },
     "execution_count": 346,
     "metadata": {},
     "output_type": "execute_result"
    }
   ],
   "source": [
    "requests.get(f\"http://0.0.0.0:8000/user/{user_id}/recommend\").json()"
   ]
  },
  {
   "cell_type": "code",
   "execution_count": null,
   "metadata": {},
   "outputs": [],
   "source": []
  }
 ],
 "metadata": {
  "kernelspec": {
   "display_name": "Python 3",
   "language": "python",
   "name": "python3"
  },
  "language_info": {
   "codemirror_mode": {
    "name": "ipython",
    "version": 3
   },
   "file_extension": ".py",
   "mimetype": "text/x-python",
   "name": "python",
   "nbconvert_exporter": "python",
   "pygments_lexer": "ipython3",
   "version": "3.8.2"
  }
 },
 "nbformat": 4,
 "nbformat_minor": 4
}
