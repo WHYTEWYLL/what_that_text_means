{
 "cells": [
  {
   "cell_type": "markdown",
   "metadata": {},
   "source": [
    "## Introduce texto\n",
    "\n",
    "Introduce el texto que quieras, en formato {</username/>:[frases]}"
   ]
  },
  {
   "cell_type": "code",
   "execution_count": 39,
   "metadata": {},
   "outputs": [],
   "source": [
    "textas={\"Weird Al Yankovic\": [\n",
    "    \"Alanis Morissette and I actually used to date. I especially liked it when we went to the movies.\",\n",
    "    \"That's something the kids should know about. Reading is a gateway to witchcraft and lesbianism.\",\n",
    "    \"I wrote 'Eat It' because I wanted to buy a house. It worked.\",\n",
    "    \"Right now I'm listening to a lot of Top 40 music, because THAT'S MY JOB.\",\n",
    "    \"If money can't buy happiness, I guess I'll have to rent it.\",\n",
    "    \"My brothers and sisters all hated me 'cause I was an only child.\",\n",
    "    \"Shoppin' online for deals on some writable media I edit Wikipedia\",\n",
    "    \"I'm nerdy in the extreme Whiter than sour cream\",\n",
    "    \"Never had a date That you couldn't inflate\"\n",
    "],\n",
    "\"AK-47\": [\n",
    "    \"That weapon is going to keep you alive.\",\n",
    "    \"Is there a design this good that doesn't kill people?\",\n",
    "    \"AK-47 is the tool. Don't make me act the motherfucking fool.\",\n",
    "    \"The AK-47 went head-to-head with the M-16, and emerged on the winning side.\"],\n",
    "\"Adolf Hitler\": [\n",
    "    \"The common good before the individual good. (Gemeinnutz geht vor Eigennutz)\",\n",
    "    \"There are no such things as classes: they cannot be. Class means caste and caste means race.\",\n",
    "    \"Politics is history in the making.\",\n",
    "    \"I only acknowledge one nobility—that of labour.\",\n",
    "    \"We want this people to be hard, not soft, and you must steel yourselves for it in your youth!\",\n",
    "    \"Our party remains as firm as this rock and will not be divided by any force in Germany.\",\n",
    "    \"It is not the State that orders us; but it is we who order the State!\",\n",
    "    \"The war is lost!\",\n",
    "    \"The god of war has gone over to the other side.\",\n",
    "    \"Everyone was at one time a Social Democrat.\"]}\n"
   ]
  },
  {
   "cell_type": "markdown",
   "metadata": {},
   "source": [
    "## CREAR USUARIOS\n"
   ]
  },
  {
   "cell_type": "code",
   "execution_count": 40,
   "metadata": {},
   "outputs": [],
   "source": [
    "list(textas.keys())\n",
    "import requests"
   ]
  },
  {
   "cell_type": "code",
   "execution_count": 41,
   "metadata": {},
   "outputs": [],
   "source": [
    "identificadores=[]\n",
    "for username in list(textas.keys()):\n",
    "    identificadores.append([username,requests.get(f\"http://0.0.0.0:8000/user/create/{username}\").text])\n"
   ]
  },
  {
   "cell_type": "code",
   "execution_count": 47,
   "metadata": {},
   "outputs": [
    {
     "data": {
      "text/plain": [
       "'5f0ccc882868782ea199a500'"
      ]
     },
     "execution_count": 47,
     "metadata": {},
     "output_type": "execute_result"
    }
   ],
   "source": [
    "identificadores[1][1]"
   ]
  },
  {
   "cell_type": "code",
   "execution_count": 57,
   "metadata": {},
   "outputs": [
    {
     "data": {
      "text/plain": [
       "['5f0ccc882868782ea199a4ff',\n",
       " '5f0ccc882868782ea199a500',\n",
       " '5f0ccc882868782ea199a501']"
      ]
     },
     "execution_count": 57,
     "metadata": {},
     "output_type": "execute_result"
    }
   ],
   "source": [
    "misparticipantes=[ candidatos[1] for candidatos in identificadores]\n",
    "misparticipantes"
   ]
  },
  {
   "cell_type": "code",
   "execution_count": 63,
   "metadata": {},
   "outputs": [
    {
     "data": {
      "text/plain": [
       "{'Participants': ['5f0ccc882868782ea199a4ff',\n",
       "  '5f0ccc882868782ea199a500',\n",
       "  '5f0ccc882868782ea199a501']}"
      ]
     },
     "execution_count": 63,
     "metadata": {},
     "output_type": "execute_result"
    }
   ],
   "source": [
    "Participants={\"Participants\":misparticipantes}\n",
    "\n",
    "#Nombre de la conv\n",
    "groupname=\"Rematar 202021aa\"\n",
    "Participants"
   ]
  },
  {
   "cell_type": "code",
   "execution_count": 64,
   "metadata": {},
   "outputs": [],
   "source": [
    "conver_id=requests.get(f\"http://0.0.0.0:8000/chat/create?groupname={groupname}\",params=Participants).text\n"
   ]
  },
  {
   "cell_type": "code",
   "execution_count": 75,
   "metadata": {},
   "outputs": [
    {
     "data": {
      "text/plain": [
       "'5f0ccd552868782ea199a503'"
      ]
     },
     "execution_count": 75,
     "metadata": {},
     "output_type": "execute_result"
    }
   ],
   "source": [
    "conver_id"
   ]
  },
  {
   "cell_type": "markdown",
   "metadata": {},
   "source": [
    "Create new user and adding him to the conve:"
   ]
  },
  {
   "cell_type": "code",
   "execution_count": 66,
   "metadata": {},
   "outputs": [
    {
     "data": {
      "text/plain": [
       "'{\\n  \"message\": \"Ese nombre de usuario ya esta ocupado. Prueba con otro :) ! Try again /user/create?username=<username>\", \\n  \"status\": \"error\"\\n}\\n'"
      ]
     },
     "execution_count": 66,
     "metadata": {},
     "output_type": "execute_result"
    }
   ],
   "source": [
    "Newguy=\"Papaas\"\n",
    "requests.get(f\"http://0.0.0.0:8000/user/create/{Newguy}\").text"
   ]
  },
  {
   "cell_type": "code",
   "execution_count": 67,
   "metadata": {},
   "outputs": [
    {
     "data": {
      "text/plain": [
       "\"['5f0ccc882868782ea199a4ff', '5f0ccc882868782ea199a500', '5f0ccc882868782ea199a501', '5f0ccd282868782ea199a502']\""
      ]
     },
     "execution_count": 67,
     "metadata": {},
     "output_type": "execute_result"
    }
   ],
   "source": [
    "add_user_id={\"add_user_id\":[\"5f0ccd282868782ea199a502\"]}\n",
    "\n",
    "\n",
    "requests.get(f\"http://0.0.0.0:8000/chat/{conver_id}/adduser\",params=add_user_id).text\n",
    "\n"
   ]
  },
  {
   "cell_type": "code",
   "execution_count": 68,
   "metadata": {},
   "outputs": [],
   "source": [
    "import random"
   ]
  },
  {
   "cell_type": "code",
   "execution_count": 69,
   "metadata": {},
   "outputs": [],
   "source": [
    "for x in range(5):\n",
    "    usuario=random.choices(identificadores)\n",
    "    user_id=usuario[0][1]\n",
    "    text={\"text\":random.choices(textas[usuario[0][0]])[0]}\n",
    "    requests.post(f\"http://0.0.0.0:8000/chat/{conver_id}/addmessage/{user_id}\",params=text).text"
   ]
  },
  {
   "cell_type": "code",
   "execution_count": 70,
   "metadata": {},
   "outputs": [
    {
     "data": {
      "text/plain": [
       "'Mensaje enviado'"
      ]
     },
     "execution_count": 70,
     "metadata": {},
     "output_type": "execute_result"
    }
   ],
   "source": [
    "requests.post(f\"http://0.0.0.0:8000/chat/{conver_id}/addmessage/{user_id}\",params=text).text"
   ]
  },
  {
   "cell_type": "code",
   "execution_count": null,
   "metadata": {},
   "outputs": [],
   "source": []
  },
  {
   "cell_type": "code",
   "execution_count": 71,
   "metadata": {},
   "outputs": [],
   "source": [
    "conversation_id=\"5f0cc65f8c7966bcd5e8e962\""
   ]
  },
  {
   "cell_type": "code",
   "execution_count": 72,
   "metadata": {},
   "outputs": [
    {
     "data": {
      "text/plain": [
       "[{'_id': {'$oid': '5f0cc6708c7966bcd5e8e964'},\n",
       "  'Message': 'I only acknowledge one nobility—that of labour.',\n",
       "  'by': '5f0cc6548c7966bcd5e8e961',\n",
       "  'Group': '5f0cc65f8c7966bcd5e8e962'},\n",
       " {'_id': {'$oid': '5f0cc6708c7966bcd5e8e965'},\n",
       "  'Message': 'It is not the State that orders us; but it is we who order the State!',\n",
       "  'by': '5f0cc6548c7966bcd5e8e961',\n",
       "  'Group': '5f0cc65f8c7966bcd5e8e962'},\n",
       " {'_id': {'$oid': '5f0cc6718c7966bcd5e8e966'},\n",
       "  'Message': 'Everyone was at one time a Social Democrat.',\n",
       "  'by': '5f0cc6548c7966bcd5e8e961',\n",
       "  'Group': '5f0cc65f8c7966bcd5e8e962'},\n",
       " {'_id': {'$oid': '5f0cc6718c7966bcd5e8e967'},\n",
       "  'Message': \"That's something the kids should know about. Reading is a gateway to witchcraft and lesbianism.\",\n",
       "  'by': '5f0cc6548c7966bcd5e8e95f',\n",
       "  'Group': '5f0cc65f8c7966bcd5e8e962'},\n",
       " {'_id': {'$oid': '5f0cc6718c7966bcd5e8e968'},\n",
       "  'Message': \"Is there a design this good that doesn't kill people?\",\n",
       "  'by': '5f0cc6548c7966bcd5e8e960',\n",
       "  'Group': '5f0cc65f8c7966bcd5e8e962'},\n",
       " {'_id': {'$oid': '5f0cc6738c7966bcd5e8e969'},\n",
       "  'Message': \"Is there a design this good that doesn't kill people?\",\n",
       "  'by': '5f0cc6548c7966bcd5e8e960',\n",
       "  'Group': '5f0cc65f8c7966bcd5e8e962'}]"
      ]
     },
     "execution_count": 72,
     "metadata": {},
     "output_type": "execute_result"
    }
   ],
   "source": [
    "requests.get(f\"http://0.0.0.0:8000/chat/{conversation_id}/list\").json()"
   ]
  },
  {
   "cell_type": "code",
   "execution_count": null,
   "metadata": {},
   "outputs": [],
   "source": []
  },
  {
   "cell_type": "code",
   "execution_count": null,
   "metadata": {},
   "outputs": [],
   "source": []
  },
  {
   "cell_type": "code",
   "execution_count": null,
   "metadata": {},
   "outputs": [],
   "source": []
  },
  {
   "cell_type": "markdown",
   "metadata": {},
   "source": [
    "## Feelings in Chat"
   ]
  },
  {
   "cell_type": "code",
   "execution_count": 73,
   "metadata": {},
   "outputs": [],
   "source": []
  },
  {
   "cell_type": "code",
   "execution_count": 76,
   "metadata": {},
   "outputs": [
    {
     "data": {
      "text/plain": [
       "{'neg': 0.0, 'neu': 0.832, 'pos': 0.168, 'compound': 0.2657}"
      ]
     },
     "execution_count": 76,
     "metadata": {},
     "output_type": "execute_result"
    }
   ],
   "source": [
    "requests.get(f\"http://0.0.0.0:8000/chat/{conversation_id}/sentiment\").json()"
   ]
  },
  {
   "cell_type": "markdown",
   "metadata": {},
   "source": [
    "## System recommendation"
   ]
  },
  {
   "cell_type": "code",
   "execution_count": 77,
   "metadata": {},
   "outputs": [],
   "source": [
    "user_id=random.choices(identificadores)[0][1]"
   ]
  },
  {
   "cell_type": "code",
   "execution_count": 78,
   "metadata": {},
   "outputs": [
    {
     "data": {
      "text/plain": [
       "{'5f0ccc882868782ea199a4ff': 0.6053948249250678,\n",
       " '5f0ccc882868782ea199a500': 0.43435458616320083}"
      ]
     },
     "execution_count": 78,
     "metadata": {},
     "output_type": "execute_result"
    }
   ],
   "source": [
    "requests.get(f\"http://0.0.0.0:8000/user/{user_id}/recommend\").json()"
   ]
  },
  {
   "cell_type": "code",
   "execution_count": null,
   "metadata": {},
   "outputs": [],
   "source": []
  }
 ],
 "metadata": {
  "kernelspec": {
   "display_name": "Python 3",
   "language": "python",
   "name": "python3"
  },
  "language_info": {
   "codemirror_mode": {
    "name": "ipython",
    "version": 3
   },
   "file_extension": ".py",
   "mimetype": "text/x-python",
   "name": "python",
   "nbconvert_exporter": "python",
   "pygments_lexer": "ipython3",
   "version": "3.8.2"
  }
 },
 "nbformat": 4,
 "nbformat_minor": 4
}
